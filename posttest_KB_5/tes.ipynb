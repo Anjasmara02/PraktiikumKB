{
 "cells": [
  {
   "cell_type": "code",
   "execution_count": 6,
   "metadata": {},
   "outputs": [],
   "source": [
    "import tensorflow as tf\n",
    "import pandas as pd\n",
    "import seaborn as sns\n",
    "import tensorflow as tf"
   ]
  },
  {
   "cell_type": "code",
   "execution_count": 4,
   "metadata": {},
   "outputs": [],
   "source": [
    "dataset_split = pd.read_csv(\"housing_clean.csv\")\n"
   ]
  },
  {
   "cell_type": "code",
   "execution_count": 5,
   "metadata": {},
   "outputs": [
    {
     "data": {
      "text/plain": [
       "longitude             float64\n",
       "latitude              float64\n",
       "housing_median_age      int64\n",
       "total_rooms           float64\n",
       "total_bedrooms        float64\n",
       "population              int64\n",
       "households              int64\n",
       "median_income         float64\n",
       "median_house_value      int64\n",
       "ocean_proximity        object\n",
       "dtype: object"
      ]
     },
     "execution_count": 5,
     "metadata": {},
     "output_type": "execute_result"
    }
   ],
   "source": [
    "dataset_split.dtypes"
   ]
  },
  {
   "cell_type": "markdown",
   "metadata": {},
   "source": [
    "#Regresi(DNN)"
   ]
  },
  {
   "cell_type": "code",
   "execution_count": 8,
   "metadata": {},
   "outputs": [],
   "source": [
    "df = sns.load_dataset('anscombe')"
   ]
  },
  {
   "cell_type": "markdown",
   "metadata": {},
   "source": [
    "Split data"
   ]
  },
  {
   "cell_type": "markdown",
   "metadata": {},
   "source": []
  },
  {
   "cell_type": "code",
   "execution_count": 22,
   "metadata": {},
   "outputs": [],
   "source": [
    "from sklearn.model_selection import train_test_split\n",
    "\n",
    "x=df['x']\n",
    "y=df['y']\n",
    "\n",
    "x_train,x_test,y_train,y_test = train_test_split(\n",
    "    x,y,\n",
    "    test_size=0.15,\n",
    "    random_state=45)\n",
    "\n",
    "    #split data train =>train + val\n",
    "x_val = x_train.iloc[:30]\n",
    "y_val = y_train.iloc[:30]\n"
   ]
  },
  {
   "cell_type": "markdown",
   "metadata": {},
   "source": [
    "Buat Arsitektur DNN"
   ]
  },
  {
   "cell_type": "code",
   "execution_count": 17,
   "metadata": {},
   "outputs": [],
   "source": [
    "from tensorflow.keras import  Sequential\n",
    "from tensorflow.keras.layers import Dense"
   ]
  },
  {
   "cell_type": "code",
   "execution_count": 18,
   "metadata": {},
   "outputs": [],
   "source": [
    "model = Sequential([\n",
    "    Dense (units=5, activation='linear', input_shape=(None,1))\n",
    "])"
   ]
  },
  {
   "cell_type": "markdown",
   "metadata": {},
   "source": [
    "model training"
   ]
  },
  {
   "cell_type": "markdown",
   "metadata": {},
   "source": [
    "model compile"
   ]
  },
  {
   "cell_type": "code",
   "execution_count": 19,
   "metadata": {},
   "outputs": [],
   "source": [
    "model.compile(\n",
    "optimizer = 'adam',\n",
    "loss= 'mean_squared_error'\n",
    ")"
   ]
  },
  {
   "cell_type": "markdown",
   "metadata": {},
   "source": [
    "model fit"
   ]
  },
  {
   "cell_type": "code",
   "execution_count": 23,
   "metadata": {},
   "outputs": [
    {
     "name": "stdout",
     "output_type": "stream",
     "text": [
      "Epoch 1/100\n",
      "2/2 [==============================] - 1s 278ms/step - loss: 74.4481 - val_loss: 76.4342\n",
      "Epoch 2/100\n",
      "2/2 [==============================] - 0s 45ms/step - loss: 74.1564 - val_loss: 76.1277\n",
      "Epoch 3/100\n",
      "2/2 [==============================] - 0s 142ms/step - loss: 73.8616 - val_loss: 75.8284\n",
      "Epoch 4/100\n",
      "2/2 [==============================] - 0s 82ms/step - loss: 73.5573 - val_loss: 75.5294\n",
      "Epoch 5/100\n",
      "2/2 [==============================] - 0s 70ms/step - loss: 73.2687 - val_loss: 75.2258\n",
      "Epoch 6/100\n",
      "2/2 [==============================] - 0s 67ms/step - loss: 72.9807 - val_loss: 74.9211\n",
      "Epoch 7/100\n",
      "2/2 [==============================] - 0s 58ms/step - loss: 72.6884 - val_loss: 74.6191\n",
      "Epoch 8/100\n",
      "2/2 [==============================] - 0s 71ms/step - loss: 72.3951 - val_loss: 74.3200\n",
      "Epoch 9/100\n",
      "2/2 [==============================] - 0s 68ms/step - loss: 72.0944 - val_loss: 74.0195\n",
      "Epoch 10/100\n",
      "2/2 [==============================] - 0s 71ms/step - loss: 71.8151 - val_loss: 73.7185\n",
      "Epoch 11/100\n",
      "2/2 [==============================] - 0s 41ms/step - loss: 71.5225 - val_loss: 73.4212\n",
      "Epoch 12/100\n",
      "2/2 [==============================] - 0s 65ms/step - loss: 71.2224 - val_loss: 73.1249\n",
      "Epoch 13/100\n",
      "2/2 [==============================] - 0s 61ms/step - loss: 70.9433 - val_loss: 72.8264\n",
      "Epoch 14/100\n",
      "2/2 [==============================] - 0s 60ms/step - loss: 70.6550 - val_loss: 72.5305\n",
      "Epoch 15/100\n",
      "2/2 [==============================] - 0s 62ms/step - loss: 70.3653 - val_loss: 72.2372\n",
      "Epoch 16/100\n",
      "2/2 [==============================] - 0s 64ms/step - loss: 70.0898 - val_loss: 71.9438\n",
      "Epoch 17/100\n",
      "2/2 [==============================] - 0s 53ms/step - loss: 69.8052 - val_loss: 71.6541\n",
      "Epoch 18/100\n",
      "2/2 [==============================] - 0s 46ms/step - loss: 69.5174 - val_loss: 71.3658\n",
      "Epoch 19/100\n",
      "2/2 [==============================] - 0s 50ms/step - loss: 69.2458 - val_loss: 71.0779\n",
      "Epoch 20/100\n",
      "2/2 [==============================] - 0s 51ms/step - loss: 68.9645 - val_loss: 70.7941\n",
      "Epoch 21/100\n",
      "2/2 [==============================] - 0s 72ms/step - loss: 68.6690 - val_loss: 70.5156\n",
      "Epoch 22/100\n",
      "2/2 [==============================] - 0s 62ms/step - loss: 68.3934 - val_loss: 70.2433\n",
      "Epoch 23/100\n",
      "2/2 [==============================] - 0s 65ms/step - loss: 68.1598 - val_loss: 69.9740\n",
      "Epoch 24/100\n",
      "2/2 [==============================] - 0s 53ms/step - loss: 67.8973 - val_loss: 69.7030\n",
      "Epoch 25/100\n",
      "2/2 [==============================] - 0s 53ms/step - loss: 67.6289 - val_loss: 69.4282\n",
      "Epoch 26/100\n",
      "2/2 [==============================] - 0s 57ms/step - loss: 67.3636 - val_loss: 69.1529\n",
      "Epoch 27/100\n",
      "2/2 [==============================] - 0s 56ms/step - loss: 67.1074 - val_loss: 68.8786\n",
      "Epoch 28/100\n",
      "2/2 [==============================] - 0s 58ms/step - loss: 66.8344 - val_loss: 68.6044\n",
      "Epoch 29/100\n",
      "2/2 [==============================] - 0s 49ms/step - loss: 66.5741 - val_loss: 68.3317\n",
      "Epoch 30/100\n",
      "2/2 [==============================] - 0s 57ms/step - loss: 66.3004 - val_loss: 68.0604\n",
      "Epoch 31/100\n",
      "2/2 [==============================] - 0s 51ms/step - loss: 66.0467 - val_loss: 67.7916\n",
      "Epoch 32/100\n",
      "2/2 [==============================] - 0s 62ms/step - loss: 65.7824 - val_loss: 67.5244\n",
      "Epoch 33/100\n",
      "2/2 [==============================] - 0s 47ms/step - loss: 65.4663 - val_loss: 67.2543\n",
      "Epoch 34/100\n",
      "2/2 [==============================] - 0s 53ms/step - loss: 65.2744 - val_loss: 66.9798\n",
      "Epoch 35/100\n",
      "2/2 [==============================] - 0s 52ms/step - loss: 64.9630 - val_loss: 66.7042\n",
      "Epoch 36/100\n",
      "2/2 [==============================] - 0s 56ms/step - loss: 64.7088 - val_loss: 66.4252\n",
      "Epoch 37/100\n",
      "2/2 [==============================] - 0s 67ms/step - loss: 64.3989 - val_loss: 66.1496\n",
      "Epoch 38/100\n",
      "2/2 [==============================] - 0s 50ms/step - loss: 64.1804 - val_loss: 65.8790\n",
      "Epoch 39/100\n",
      "2/2 [==============================] - 0s 43ms/step - loss: 63.8836 - val_loss: 65.6109\n",
      "Epoch 40/100\n",
      "2/2 [==============================] - 0s 40ms/step - loss: 63.6367 - val_loss: 65.3454\n",
      "Epoch 41/100\n",
      "2/2 [==============================] - 0s 37ms/step - loss: 63.4179 - val_loss: 65.0781\n",
      "Epoch 42/100\n",
      "2/2 [==============================] - 0s 44ms/step - loss: 63.1578 - val_loss: 64.8136\n",
      "Epoch 43/100\n",
      "2/2 [==============================] - 0s 55ms/step - loss: 62.8727 - val_loss: 64.5490\n",
      "Epoch 44/100\n",
      "2/2 [==============================] - 0s 42ms/step - loss: 62.6234 - val_loss: 64.2817\n",
      "Epoch 45/100\n",
      "2/2 [==============================] - 0s 46ms/step - loss: 62.3638 - val_loss: 64.0165\n",
      "Epoch 46/100\n",
      "2/2 [==============================] - 0s 55ms/step - loss: 62.1316 - val_loss: 63.7557\n",
      "Epoch 47/100\n",
      "2/2 [==============================] - 0s 53ms/step - loss: 61.8696 - val_loss: 63.4950\n",
      "Epoch 48/100\n",
      "2/2 [==============================] - 0s 43ms/step - loss: 61.6177 - val_loss: 63.2358\n",
      "Epoch 49/100\n",
      "2/2 [==============================] - 0s 61ms/step - loss: 61.3455 - val_loss: 62.9779\n",
      "Epoch 50/100\n",
      "2/2 [==============================] - 0s 64ms/step - loss: 61.1073 - val_loss: 62.7211\n",
      "Epoch 51/100\n",
      "2/2 [==============================] - 0s 74ms/step - loss: 60.8587 - val_loss: 62.4699\n",
      "Epoch 52/100\n",
      "2/2 [==============================] - 0s 49ms/step - loss: 60.6184 - val_loss: 62.2234\n",
      "Epoch 53/100\n",
      "2/2 [==============================] - 0s 40ms/step - loss: 60.3941 - val_loss: 61.9788\n",
      "Epoch 54/100\n",
      "2/2 [==============================] - 0s 47ms/step - loss: 60.1258 - val_loss: 61.7361\n",
      "Epoch 55/100\n",
      "2/2 [==============================] - 0s 39ms/step - loss: 59.7717 - val_loss: 61.4911\n",
      "Epoch 56/100\n",
      "2/2 [==============================] - 0s 47ms/step - loss: 59.6558 - val_loss: 61.2429\n",
      "Epoch 57/100\n",
      "2/2 [==============================] - 0s 50ms/step - loss: 59.4386 - val_loss: 60.9994\n",
      "Epoch 58/100\n",
      "2/2 [==============================] - 0s 59ms/step - loss: 59.1756 - val_loss: 60.7561\n",
      "Epoch 59/100\n",
      "2/2 [==============================] - 0s 45ms/step - loss: 58.9730 - val_loss: 60.5117\n",
      "Epoch 60/100\n",
      "2/2 [==============================] - 0s 41ms/step - loss: 58.7047 - val_loss: 60.2672\n",
      "Epoch 61/100\n",
      "2/2 [==============================] - 0s 38ms/step - loss: 58.4848 - val_loss: 60.0207\n",
      "Epoch 62/100\n",
      "2/2 [==============================] - 0s 39ms/step - loss: 58.1769 - val_loss: 59.7719\n",
      "Epoch 63/100\n",
      "2/2 [==============================] - 0s 44ms/step - loss: 58.0016 - val_loss: 59.5236\n",
      "Epoch 64/100\n",
      "2/2 [==============================] - 0s 52ms/step - loss: 57.7688 - val_loss: 59.2790\n",
      "Epoch 65/100\n",
      "2/2 [==============================] - 0s 64ms/step - loss: 57.5361 - val_loss: 59.0366\n",
      "Epoch 66/100\n",
      "2/2 [==============================] - 0s 55ms/step - loss: 57.2918 - val_loss: 58.7988\n",
      "Epoch 67/100\n",
      "2/2 [==============================] - 0s 64ms/step - loss: 56.8766 - val_loss: 58.5674\n",
      "Epoch 68/100\n",
      "2/2 [==============================] - 0s 85ms/step - loss: 56.8373 - val_loss: 58.3422\n",
      "Epoch 69/100\n",
      "2/2 [==============================] - 0s 99ms/step - loss: 56.6304 - val_loss: 58.1183\n",
      "Epoch 70/100\n",
      "2/2 [==============================] - 0s 72ms/step - loss: 56.3055 - val_loss: 57.8912\n",
      "Epoch 71/100\n",
      "2/2 [==============================] - 0s 79ms/step - loss: 56.1412 - val_loss: 57.6623\n",
      "Epoch 72/100\n",
      "2/2 [==============================] - 0s 60ms/step - loss: 55.9636 - val_loss: 57.4375\n",
      "Epoch 73/100\n",
      "2/2 [==============================] - 0s 60ms/step - loss: 55.7217 - val_loss: 57.2123\n",
      "Epoch 74/100\n",
      "2/2 [==============================] - 0s 66ms/step - loss: 55.5258 - val_loss: 56.9842\n",
      "Epoch 75/100\n",
      "2/2 [==============================] - 0s 71ms/step - loss: 55.1134 - val_loss: 56.7515\n",
      "Epoch 76/100\n",
      "2/2 [==============================] - 0s 80ms/step - loss: 55.0351 - val_loss: 56.5177\n",
      "Epoch 77/100\n",
      "2/2 [==============================] - 0s 93ms/step - loss: 54.8070 - val_loss: 56.2867\n",
      "Epoch 78/100\n",
      "2/2 [==============================] - 0s 89ms/step - loss: 54.6439 - val_loss: 56.0558\n",
      "Epoch 79/100\n",
      "2/2 [==============================] - 0s 83ms/step - loss: 54.2950 - val_loss: 55.8249\n",
      "Epoch 80/100\n",
      "2/2 [==============================] - 0s 254ms/step - loss: 54.1970 - val_loss: 55.5929\n",
      "Epoch 81/100\n",
      "2/2 [==============================] - 0s 76ms/step - loss: 53.8864 - val_loss: 55.3617\n",
      "Epoch 82/100\n",
      "2/2 [==============================] - 0s 85ms/step - loss: 53.7510 - val_loss: 55.1305\n",
      "Epoch 83/100\n",
      "2/2 [==============================] - 0s 48ms/step - loss: 53.5272 - val_loss: 54.9030\n",
      "Epoch 84/100\n",
      "2/2 [==============================] - 0s 41ms/step - loss: 52.8917 - val_loss: 54.6730\n",
      "Epoch 85/100\n",
      "2/2 [==============================] - 0s 38ms/step - loss: 53.0742 - val_loss: 54.4400\n",
      "Epoch 86/100\n",
      "2/2 [==============================] - 0s 47ms/step - loss: 52.8162 - val_loss: 54.2105\n",
      "Epoch 87/100\n",
      "2/2 [==============================] - 0s 41ms/step - loss: 52.5787 - val_loss: 53.9814\n",
      "Epoch 88/100\n",
      "2/2 [==============================] - 0s 34ms/step - loss: 52.3983 - val_loss: 53.7550\n",
      "Epoch 89/100\n",
      "2/2 [==============================] - 0s 36ms/step - loss: 52.1809 - val_loss: 53.5341\n",
      "Epoch 90/100\n",
      "2/2 [==============================] - 0s 34ms/step - loss: 51.9751 - val_loss: 53.3166\n",
      "Epoch 91/100\n",
      "2/2 [==============================] - 0s 42ms/step - loss: 51.7571 - val_loss: 53.1020\n",
      "Epoch 92/100\n",
      "2/2 [==============================] - 0s 47ms/step - loss: 51.4792 - val_loss: 52.8927\n",
      "Epoch 93/100\n",
      "2/2 [==============================] - 0s 43ms/step - loss: 51.2911 - val_loss: 52.6850\n",
      "Epoch 94/100\n",
      "2/2 [==============================] - 0s 42ms/step - loss: 51.0698 - val_loss: 52.4778\n",
      "Epoch 95/100\n",
      "2/2 [==============================] - 0s 40ms/step - loss: 50.8757 - val_loss: 52.2721\n",
      "Epoch 96/100\n",
      "2/2 [==============================] - 0s 43ms/step - loss: 50.6001 - val_loss: 52.0671\n",
      "Epoch 97/100\n",
      "2/2 [==============================] - 0s 45ms/step - loss: 50.5209 - val_loss: 51.8650\n",
      "Epoch 98/100\n",
      "2/2 [==============================] - 0s 33ms/step - loss: 50.3259 - val_loss: 51.6628\n",
      "Epoch 99/100\n",
      "2/2 [==============================] - 0s 42ms/step - loss: 50.1062 - val_loss: 51.4644\n",
      "Epoch 100/100\n",
      "2/2 [==============================] - 0s 42ms/step - loss: 49.8694 - val_loss: 51.2658\n"
     ]
    },
    {
     "data": {
      "text/plain": [
       "<keras.src.callbacks.History at 0x13e84414f10>"
      ]
     },
     "execution_count": 23,
     "metadata": {},
     "output_type": "execute_result"
    }
   ],
   "source": [
    "model.fit(\n",
    "    x=x_train,y=y_train,\n",
    "    epochs=100,\n",
    "    validation_data = (x_val,y_val)\n",
    ")"
   ]
  },
  {
   "cell_type": "markdown",
   "metadata": {},
   "source": [
    "model Evalute"
   ]
  },
  {
   "cell_type": "code",
   "execution_count": 24,
   "metadata": {},
   "outputs": [
    {
     "name": "stdout",
     "output_type": "stream",
     "text": [
      "1/1 [==============================] - 0s 42ms/step - loss: 41.6167\n"
     ]
    },
    {
     "data": {
      "text/plain": [
       "41.61665725708008"
      ]
     },
     "execution_count": 24,
     "metadata": {},
     "output_type": "execute_result"
    }
   ],
   "source": [
    "model.evaluate(x_test,y_test)"
   ]
  },
  {
   "cell_type": "markdown",
   "metadata": {},
   "source": [
    "model prediksi"
   ]
  },
  {
   "cell_type": "code",
   "execution_count": 25,
   "metadata": {},
   "outputs": [
    {
     "name": "stdout",
     "output_type": "stream",
     "text": [
      "1/1 [==============================] - 0s 244ms/step\n"
     ]
    }
   ],
   "source": [
    "hasil_prediksi = model.predict(x_test)"
   ]
  },
  {
   "cell_type": "code",
   "execution_count": 26,
   "metadata": {},
   "outputs": [
    {
     "data": {
      "text/plain": [
       "array([[[ 4.03416   ,  5.753282  , -0.04624729, -1.5739955 ,\n",
       "         -0.31750458]],\n",
       "\n",
       "       [[ 2.1081624 ,  2.9596305 ,  0.07247078, -0.69073415,\n",
       "         -0.06302054]],\n",
       "\n",
       "       [[ 4.997159  ,  7.150108  , -0.10560633, -2.015626  ,\n",
       "         -0.4447466 ]],\n",
       "\n",
       "       [[ 6.9231563 ,  9.94376   , -0.22432439, -2.8988874 ,\n",
       "         -0.6992307 ]],\n",
       "\n",
       "       [[ 5.478658  ,  7.8485208 , -0.13528584, -2.2364414 ,\n",
       "         -0.5083676 ]],\n",
       "\n",
       "       [[ 4.5156593 ,  6.451695  , -0.0759268 , -1.7948108 ,\n",
       "         -0.38112563]],\n",
       "\n",
       "       [[ 4.03416   ,  5.753282  , -0.04624729, -1.5739955 ,\n",
       "         -0.31750458]]], dtype=float32)"
      ]
     },
     "execution_count": 26,
     "metadata": {},
     "output_type": "execute_result"
    }
   ],
   "source": [
    "hasil_prediksi"
   ]
  },
  {
   "cell_type": "markdown",
   "metadata": {},
   "source": [
    "klasifikasi DNN"
   ]
  },
  {
   "cell_type": "code",
   "execution_count": 28,
   "metadata": {},
   "outputs": [],
   "source": [
    "from tensorflow.keras import datasets"
   ]
  },
  {
   "cell_type": "code",
   "execution_count": 30,
   "metadata": {},
   "outputs": [
    {
     "name": "stdout",
     "output_type": "stream",
     "text": [
      "Downloading data from https://storage.googleapis.com/tensorflow/tf-keras-datasets/mnist.npz\n",
      "11490434/11490434 [==============================] - 1s 0us/step\n"
     ]
    }
   ],
   "source": [
    "(x_train, y_train), (x_test,y_test) = datasets.mnist.load_data()"
   ]
  },
  {
   "cell_type": "code",
   "execution_count": 31,
   "metadata": {},
   "outputs": [],
   "source": [
    "import matplotlib.pyplot as plt\n"
   ]
  },
  {
   "cell_type": "code",
   "execution_count": 35,
   "metadata": {},
   "outputs": [
    {
     "data": {
      "image/png": "[encoded data removed]",
      "text/plain": [
       "<Figure size 640x480 with 9 Axes>"
      ]
     },
     "metadata": {},
     "output_type": "display_data"
    }
   ],
   "source": [
    "plt.figure()\n",
    "for i in range(9):\n",
    "    plt.subplot(3, 3 ,i+1)\n",
    "    plt.imshow(x_train [i], cmap='gray')\n",
    "    plt.axis('off')\n",
    "plt.show()\n"
   ]
  },
  {
   "cell_type": "markdown",
   "metadata": {},
   "source": [
    "transformasi gambar"
   ]
  },
  {
   "cell_type": "code",
   "execution_count": 37,
   "metadata": {},
   "outputs": [
    {
     "data": {
      "text/plain": [
       "(10000, 784)"
      ]
     },
     "execution_count": 37,
     "metadata": {},
     "output_type": "execute_result"
    }
   ],
   "source": [
    "x_test.shape"
   ]
  },
  {
   "cell_type": "code",
   "execution_count": 38,
   "metadata": {},
   "outputs": [],
   "source": [
    "# ubah data dari 28x28 ke 784\n",
    "x_train = x_train.reshape(60000, 784)\n",
    "x_test = x_test.reshape(10000, 784)\n",
    "\n",
    "#normalisasi pixel gambar (khusus gambar hitam putih)\n",
    "x_train = x_train.astype('float32')/255\n",
    "x_test = x_test.astype('float32')/255"
   ]
  },
  {
   "cell_type": "markdown",
   "metadata": {},
   "source": [
    "Buat arsitektur model"
   ]
  },
  {
   "cell_type": "code",
   "execution_count": 40,
   "metadata": {},
   "outputs": [],
   "source": [
    "model = Sequential([\n",
    "    #input layer\n",
    "    Dense(16, activation= 'relu', input_shape= [784]),\n",
    "    #hiden layer\n",
    "    Dense(32, activation='relu'),\n",
    "    Dense(64,activation='relu'),\n",
    "    #ouput layer\n",
    "    Dense(10, activation= 'softmax'),\n",
    "\n",
    "])"
   ]
  },
  {
   "cell_type": "code",
   "execution_count": 43,
   "metadata": {},
   "outputs": [],
   "source": [
    "model.compile (optimizer='adam',\n",
    "                loss='sparse_categorical_crossentropy',\n",
    "                metrics= ['accuracy'])"
   ]
  },
  {
   "cell_type": "code",
   "execution_count": 47,
   "metadata": {},
   "outputs": [
    {
     "name": "stdout",
     "output_type": "stream",
     "text": [
      "Epoch 1/10\n",
      "375/375 [==============================] - 3s 4ms/step - loss: 0.6380 - accuracy: 0.8053 - val_loss: 0.2822 - val_accuracy: 0.9172\n",
      "Epoch 2/10\n",
      "375/375 [==============================] - 2s 4ms/step - loss: 0.2720 - accuracy: 0.9208 - val_loss: 0.2355 - val_accuracy: 0.9314\n",
      "Epoch 3/10\n",
      "375/375 [==============================] - 1s 4ms/step - loss: 0.2262 - accuracy: 0.9334 - val_loss: 0.2035 - val_accuracy: 0.9404\n",
      "Epoch 4/10\n",
      "375/375 [==============================] - 2s 4ms/step - loss: 0.2007 - accuracy: 0.9410 - val_loss: 0.1921 - val_accuracy: 0.9427\n",
      "Epoch 5/10\n",
      "375/375 [==============================] - 2s 4ms/step - loss: 0.1801 - accuracy: 0.9466 - val_loss: 0.1835 - val_accuracy: 0.9470\n",
      "Epoch 6/10\n",
      "375/375 [==============================] - 2s 5ms/step - loss: 0.1644 - accuracy: 0.9511 - val_loss: 0.1694 - val_accuracy: 0.9486\n",
      "Epoch 7/10\n",
      "375/375 [==============================] - 2s 4ms/step - loss: 0.1506 - accuracy: 0.9555 - val_loss: 0.1622 - val_accuracy: 0.9519\n",
      "Epoch 8/10\n",
      "375/375 [==============================] - 2s 4ms/step - loss: 0.1412 - accuracy: 0.9573 - val_loss: 0.1558 - val_accuracy: 0.9533\n",
      "Epoch 9/10\n",
      "375/375 [==============================] - 2s 4ms/step - loss: 0.1340 - accuracy: 0.9594 - val_loss: 0.1592 - val_accuracy: 0.9517\n",
      "Epoch 10/10\n",
      "375/375 [==============================] - 2s 4ms/step - loss: 0.1250 - accuracy: 0.9620 - val_loss: 0.1506 - val_accuracy: 0.9563\n"
     ]
    },
    {
     "data": {
      "text/plain": [
       "<keras.src.callbacks.History at 0x13e86a6c2b0>"
      ]
     },
     "execution_count": 47,
     "metadata": {},
     "output_type": "execute_result"
    }
   ],
   "source": [
    "model.fit(x_train ,y_train, batch_size=128, epochs=10,\n",
    "          validation_split=0.2)"
   ]
  },
  {
   "cell_type": "code",
   "execution_count": 48,
   "metadata": {},
   "outputs": [
    {
     "name": "stdout",
     "output_type": "stream",
     "text": [
      "313/313 [==============================] - 1s 2ms/step - loss: 0.1520 - accuracy: 0.9549\n"
     ]
    },
    {
     "data": {
      "text/plain": [
       "[0.15203246474266052, 0.9549000263214111]"
      ]
     },
     "execution_count": 48,
     "metadata": {},
     "output_type": "execute_result"
    }
   ],
   "source": [
    "model.evaluate(x_test,y_test)"
   ]
  },
  {
   "cell_type": "code",
   "execution_count": 49,
   "metadata": {},
   "outputs": [
    {
     "name": "stdout",
     "output_type": "stream",
     "text": [
      "313/313 [==============================] - 1s 3ms/step\n"
     ]
    }
   ],
   "source": [
    "y_pred = model.predict(x_test)"
   ]
  },
  {
   "cell_type": "code",
   "execution_count": 50,
   "metadata": {},
   "outputs": [],
   "source": [
    "import numpy as np\n",
    "y_pred_decoded = np.argmax(y_pred, axis=1)"
   ]
  },
  {
   "cell_type": "markdown",
   "metadata": {},
   "source": [
    "##ubah hasil prediksi"
   ]
  },
  {
   "cell_type": "code",
   "execution_count": 51,
   "metadata": {},
   "outputs": [
    {
     "name": "stdout",
     "output_type": "stream",
     "text": [
      "              precision    recall  f1-score   support\n",
      "\n",
      "           0       0.98      0.97      0.98       980\n",
      "           1       0.99      0.98      0.98      1135\n",
      "           2       0.96      0.95      0.96      1032\n",
      "           3       0.93      0.94      0.93      1010\n",
      "           4       0.97      0.95      0.96       982\n",
      "           5       0.93      0.95      0.94       892\n",
      "           6       0.96      0.97      0.96       958\n",
      "           7       0.97      0.93      0.95      1028\n",
      "           8       0.92      0.95      0.94       974\n",
      "           9       0.94      0.94      0.94      1009\n",
      "\n",
      "    accuracy                           0.95     10000\n",
      "   macro avg       0.95      0.95      0.95     10000\n",
      "weighted avg       0.96      0.95      0.95     10000\n",
      "\n"
     ]
    }
   ],
   "source": [
    "from sklearn.metrics import classification_report\n",
    "print(classification_report(y_test, y_pred=y_pred_decoded))"
   ]
  },
  {
   "cell_type": "markdown",
   "metadata": {},
   "source": [
    "pertemuan7"
   ]
  },
  {
   "cell_type": "code",
   "execution_count": 2,
   "metadata": {},
   "outputs": [],
   "source": [
    "import tensorflow as tf\n",
    "from tensorflow.keras.datasets import fashion_mnist\n",
    "import numpy as np\n",
    "import matplotlib.pyplot as plt"
   ]
  },
  {
   "cell_type": "code",
   "execution_count": 3,
   "metadata": {},
   "outputs": [
    {
     "name": "stdout",
     "output_type": "stream",
     "text": [
      "Downloading data from https://storage.googleapis.com/tensorflow/tf-keras-datasets/train-labels-idx1-ubyte.gz\n",
      "29515/29515 [==============================] - 0s 1us/step\n",
      "Downloading data from https://storage.googleapis.com/tensorflow/tf-keras-datasets/train-images-idx3-ubyte.gz\n",
      "26421880/26421880 [==============================] - 3s 0us/step\n",
      "Downloading data from https://storage.googleapis.com/tensorflow/tf-keras-datasets/t10k-labels-idx1-ubyte.gz\n",
      "5148/5148 [==============================] - 0s 0s/step\n",
      "Downloading data from https://storage.googleapis.com/tensorflow/tf-keras-datasets/t10k-images-idx3-ubyte.gz\n",
      "4422102/4422102 [==============================] - 1s 0us/step\n"
     ]
    }
   ],
   "source": [
    "(x_train, y_train), (x_test, y_test) = fashion_mnist.load_data()"
   ]
  },
  {
   "cell_type": "code",
   "execution_count": 4,
   "metadata": {},
   "outputs": [
    {
     "data": {
      "text/plain": [
       "array([[  0,   0,   0,   0,   0,   0,   0,   0,   0,   0,   0,   0,   0,\n",
       "          0,   0,   0,   0,   0,   0,   0,   0,   0,   0,   0,   0,   0,\n",
       "          0,   0],\n",
       "       [  0,   0,   0,   0,   0,   0,   0,   0,   0,   0,   0,   0,   0,\n",
       "          0,   0,   0,   0,   0,   0,   0,   0,   0,   0,   0,   0,   0,\n",
       "          0,   0],\n",
       "       [  0,   0,   0,   0,   0,   0,   0,   0,   0,   0,   0,   0,   0,\n",
       "          0,   0,   0,   0,   0,   0,   0,   0,   0,   0,   0,   0,   0,\n",
       "          0,   0],\n",
       "       [  0,   0,   0,   0,   0,   0,   0,   0,   0,   0,   0,   0,   1,\n",
       "          0,   0,  13,  73,   0,   0,   1,   4,   0,   0,   0,   0,   1,\n",
       "          1,   0],\n",
       "       [  0,   0,   0,   0,   0,   0,   0,   0,   0,   0,   0,   0,   3,\n",
       "          0,  36, 136, 127,  62,  54,   0,   0,   0,   1,   3,   4,   0,\n",
       "          0,   3],\n",
       "       [  0,   0,   0,   0,   0,   0,   0,   0,   0,   0,   0,   0,   6,\n",
       "          0, 102, 204, 176, 134, 144, 123,  23,   0,   0,   0,   0,  12,\n",
       "         10,   0],\n",
       "       [  0,   0,   0,   0,   0,   0,   0,   0,   0,   0,   0,   0,   0,\n",
       "          0, 155, 236, 207, 178, 107, 156, 161, 109,  64,  23,  77, 130,\n",
       "         72,  15],\n",
       "       [  0,   0,   0,   0,   0,   0,   0,   0,   0,   0,   0,   1,   0,\n",
       "         69, 207, 223, 218, 216, 216, 163, 127, 121, 122, 146, 141,  88,\n",
       "        172,  66],\n",
       "       [  0,   0,   0,   0,   0,   0,   0,   0,   0,   1,   1,   1,   0,\n",
       "        200, 232, 232, 233, 229, 223, 223, 215, 213, 164, 127, 123, 196,\n",
       "        229,   0],\n",
       "       [  0,   0,   0,   0,   0,   0,   0,   0,   0,   0,   0,   0,   0,\n",
       "        183, 225, 216, 223, 228, 235, 227, 224, 222, 224, 221, 223, 245,\n",
       "        173,   0],\n",
       "       [  0,   0,   0,   0,   0,   0,   0,   0,   0,   0,   0,   0,   0,\n",
       "        193, 228, 218, 213, 198, 180, 212, 210, 211, 213, 223, 220, 243,\n",
       "        202,   0],\n",
       "       [  0,   0,   0,   0,   0,   0,   0,   0,   0,   1,   3,   0,  12,\n",
       "        219, 220, 212, 218, 192, 169, 227, 208, 218, 224, 212, 226, 197,\n",
       "        209,  52],\n",
       "       [  0,   0,   0,   0,   0,   0,   0,   0,   0,   0,   6,   0,  99,\n",
       "        244, 222, 220, 218, 203, 198, 221, 215, 213, 222, 220, 245, 119,\n",
       "        167,  56],\n",
       "       [  0,   0,   0,   0,   0,   0,   0,   0,   0,   4,   0,   0,  55,\n",
       "        236, 228, 230, 228, 240, 232, 213, 218, 223, 234, 217, 217, 209,\n",
       "         92,   0],\n",
       "       [  0,   0,   1,   4,   6,   7,   2,   0,   0,   0,   0,   0, 237,\n",
       "        226, 217, 223, 222, 219, 222, 221, 216, 223, 229, 215, 218, 255,\n",
       "         77,   0],\n",
       "       [  0,   3,   0,   0,   0,   0,   0,   0,   0,  62, 145, 204, 228,\n",
       "        207, 213, 221, 218, 208, 211, 218, 224, 223, 219, 215, 224, 244,\n",
       "        159,   0],\n",
       "       [  0,   0,   0,   0,  18,  44,  82, 107, 189, 228, 220, 222, 217,\n",
       "        226, 200, 205, 211, 230, 224, 234, 176, 188, 250, 248, 233, 238,\n",
       "        215,   0],\n",
       "       [  0,  57, 187, 208, 224, 221, 224, 208, 204, 214, 208, 209, 200,\n",
       "        159, 245, 193, 206, 223, 255, 255, 221, 234, 221, 211, 220, 232,\n",
       "        246,   0],\n",
       "       [  3, 202, 228, 224, 221, 211, 211, 214, 205, 205, 205, 220, 240,\n",
       "         80, 150, 255, 229, 221, 188, 154, 191, 210, 204, 209, 222, 228,\n",
       "        225,   0],\n",
       "       [ 98, 233, 198, 210, 222, 229, 229, 234, 249, 220, 194, 215, 217,\n",
       "        241,  65,  73, 106, 117, 168, 219, 221, 215, 217, 223, 223, 224,\n",
       "        229,  29],\n",
       "       [ 75, 204, 212, 204, 193, 205, 211, 225, 216, 185, 197, 206, 198,\n",
       "        213, 240, 195, 227, 245, 239, 223, 218, 212, 209, 222, 220, 221,\n",
       "        230,  67],\n",
       "       [ 48, 203, 183, 194, 213, 197, 185, 190, 194, 192, 202, 214, 219,\n",
       "        221, 220, 236, 225, 216, 199, 206, 186, 181, 177, 172, 181, 205,\n",
       "        206, 115],\n",
       "       [  0, 122, 219, 193, 179, 171, 183, 196, 204, 210, 213, 207, 211,\n",
       "        210, 200, 196, 194, 191, 195, 191, 198, 192, 176, 156, 167, 177,\n",
       "        210,  92],\n",
       "       [  0,   0,  74, 189, 212, 191, 175, 172, 175, 181, 185, 188, 189,\n",
       "        188, 193, 198, 204, 209, 210, 210, 211, 188, 188, 194, 192, 216,\n",
       "        170,   0],\n",
       "       [  2,   0,   0,   0,  66, 200, 222, 237, 239, 242, 246, 243, 244,\n",
       "        221, 220, 193, 191, 179, 182, 182, 181, 176, 166, 168,  99,  58,\n",
       "          0,   0],\n",
       "       [  0,   0,   0,   0,   0,   0,   0,  40,  61,  44,  72,  41,  35,\n",
       "          0,   0,   0,   0,   0,   0,   0,   0,   0,   0,   0,   0,   0,\n",
       "          0,   0],\n",
       "       [  0,   0,   0,   0,   0,   0,   0,   0,   0,   0,   0,   0,   0,\n",
       "          0,   0,   0,   0,   0,   0,   0,   0,   0,   0,   0,   0,   0,\n",
       "          0,   0],\n",
       "       [  0,   0,   0,   0,   0,   0,   0,   0,   0,   0,   0,   0,   0,\n",
       "          0,   0,   0,   0,   0,   0,   0,   0,   0,   0,   0,   0,   0,\n",
       "          0,   0]], dtype=uint8)"
      ]
     },
     "execution_count": 4,
     "metadata": {},
     "output_type": "execute_result"
    }
   ],
   "source": [
    "x_train[0]"
   ]
  },
  {
   "cell_type": "markdown",
   "metadata": {},
   "source": [
    "Normalisasi pixel pada gambar"
   ]
  },
  {
   "cell_type": "code",
   "execution_count": 5,
   "metadata": {},
   "outputs": [],
   "source": [
    "x_train = x_train / 255.0\n",
    "x_train = x_test / 255.0"
   ]
  },
  {
   "cell_type": "code",
   "execution_count": 6,
   "metadata": {},
   "outputs": [
    {
     "data": {
      "text/plain": [
       "(10000, 28, 28)"
      ]
     },
     "execution_count": 6,
     "metadata": {},
     "output_type": "execute_result"
    }
   ],
   "source": [
    "x_train.shape"
   ]
  },
  {
   "cell_type": "markdown",
   "metadata": {},
   "source": [
    "tambah dimensi pada gambar"
   ]
  },
  {
   "cell_type": "code",
   "execution_count": 7,
   "metadata": {},
   "outputs": [],
   "source": [
    "x_train = np.expand_dims(x_train, axis=-1)\n",
    "x_test = np.expand_dims(x_test, axis=-1)"
   ]
  },
  {
   "cell_type": "code",
   "execution_count": 8,
   "metadata": {},
   "outputs": [
    {
     "data": {
      "text/plain": [
       "9"
      ]
     },
     "execution_count": 8,
     "metadata": {},
     "output_type": "execute_result"
    }
   ],
   "source": [
    "y_train[0]"
   ]
  },
  {
   "cell_type": "code",
   "execution_count": 9,
   "metadata": {},
   "outputs": [
    {
     "name": "stdout",
     "output_type": "stream",
     "text": [
      "9\n"
     ]
    },
    {
     "data": {
      "image/png": "[encoded data removed]",
      "text/plain": [
       "<Figure size 640x480 with 1 Axes>"
      ]
     },
     "metadata": {},
     "output_type": "display_data"
    }
   ],
   "source": [
    "plt.imshow(x_train[0][:, :, 0])\n",
    "print(y_train[0])"
   ]
  },
  {
   "cell_type": "code",
   "execution_count": 12,
   "metadata": {},
   "outputs": [],
   "source": [
    "from tensorflow.keras.layers import Conv2D, MaxPooling2D, Dense, Flatten,Dropout"
   ]
  },
  {
   "cell_type": "code",
   "execution_count": 16,
   "metadata": {},
   "outputs": [],
   "source": [
    "model = tf.keras.Sequential([\n",
    "    Conv2D(32, (5,5), padding='same', activation= 'relu', input_shape=(28,28,1)),\n",
    "    MaxPooling2D(pool_size=(3,3), strides=(2,2)),\n",
    "    Conv2D(64, (5,5), padding='same', activation='relu'),\n",
    "    MaxPooling2D(pool_size=(3,3), strides=(2,2)),\n",
    "    Dropout(0,25),\n",
    "    Flatten(),\n",
    "    Dense(128,activation='relu'),\n",
    "    Dense(10,activation='softmax')\n",
    "\n",
    "])\n",
    "model.compile(\"Adam\", \"sparse_categorical_crossentropy\", ['accuracy'])"
   ]
  },
  {
   "cell_type": "code",
   "execution_count": 17,
   "metadata": {},
   "outputs": [
    {
     "name": "stdout",
     "output_type": "stream",
     "text": [
      "Epoch 1/20\n",
      "71/71 [==============================] - 15s 197ms/step - loss: 2.3039 - accuracy: 0.1018 - val_loss: 2.3040 - val_accuracy: 0.0850\n",
      "Epoch 2/20\n",
      "71/71 [==============================] - 14s 193ms/step - loss: 2.3022 - accuracy: 0.1104 - val_loss: 2.3065 - val_accuracy: 0.0900\n",
      "Epoch 3/20\n",
      "71/71 [==============================] - 13s 189ms/step - loss: 2.3015 - accuracy: 0.1116 - val_loss: 2.3053 - val_accuracy: 0.0930\n",
      "Epoch 4/20\n",
      "71/71 [==============================] - 17s 237ms/step - loss: 2.3013 - accuracy: 0.1072 - val_loss: 2.3071 - val_accuracy: 0.0790\n",
      "Epoch 5/20\n",
      "71/71 [==============================] - 14s 193ms/step - loss: 2.2993 - accuracy: 0.1178 - val_loss: 2.3097 - val_accuracy: 0.0920\n",
      "Epoch 6/20\n",
      "71/71 [==============================] - 13s 187ms/step - loss: 2.2964 - accuracy: 0.1209 - val_loss: 2.3118 - val_accuracy: 0.1030\n",
      "Epoch 7/20\n",
      "71/71 [==============================] - 13s 188ms/step - loss: 2.2926 - accuracy: 0.1296 - val_loss: 2.3069 - val_accuracy: 0.0930\n",
      "Epoch 8/20\n",
      "71/71 [==============================] - 13s 188ms/step - loss: 2.2849 - accuracy: 0.1364 - val_loss: 2.3264 - val_accuracy: 0.0970\n",
      "Epoch 9/20\n",
      "71/71 [==============================] - 14s 194ms/step - loss: 2.2755 - accuracy: 0.1380 - val_loss: 2.3316 - val_accuracy: 0.0950\n",
      "Epoch 10/20\n",
      "71/71 [==============================] - 14s 198ms/step - loss: 2.2587 - accuracy: 0.1568 - val_loss: 2.3387 - val_accuracy: 0.0970\n",
      "Epoch 11/20\n",
      "71/71 [==============================] - 14s 191ms/step - loss: 2.2364 - accuracy: 0.1728 - val_loss: 2.3479 - val_accuracy: 0.0800\n",
      "Epoch 12/20\n",
      "71/71 [==============================] - 18s 254ms/step - loss: 2.2100 - accuracy: 0.1909 - val_loss: 2.3759 - val_accuracy: 0.1030\n",
      "Epoch 13/20\n",
      "71/71 [==============================] - 21s 294ms/step - loss: 2.1686 - accuracy: 0.2079 - val_loss: 2.3920 - val_accuracy: 0.1070\n",
      "Epoch 14/20\n",
      "71/71 [==============================] - 17s 232ms/step - loss: 2.1222 - accuracy: 0.2311 - val_loss: 2.4302 - val_accuracy: 0.0950\n",
      "Epoch 15/20\n",
      "71/71 [==============================] - 14s 203ms/step - loss: 2.0665 - accuracy: 0.2539 - val_loss: 2.4932 - val_accuracy: 0.0990\n",
      "Epoch 16/20\n",
      "71/71 [==============================] - 15s 208ms/step - loss: 2.0001 - accuracy: 0.2848 - val_loss: 2.5228 - val_accuracy: 0.0990\n",
      "Epoch 17/20\n",
      "71/71 [==============================] - 14s 194ms/step - loss: 1.9226 - accuracy: 0.3180 - val_loss: 2.6389 - val_accuracy: 0.0940\n",
      "Epoch 18/20\n",
      "71/71 [==============================] - 18s 260ms/step - loss: 1.8448 - accuracy: 0.3473 - val_loss: 2.7172 - val_accuracy: 0.0770\n",
      "Epoch 19/20\n",
      "71/71 [==============================] - 16s 224ms/step - loss: 1.7452 - accuracy: 0.3921 - val_loss: 2.8041 - val_accuracy: 0.1000\n",
      "Epoch 20/20\n",
      "71/71 [==============================] - 16s 223ms/step - loss: 1.6454 - accuracy: 0.4309 - val_loss: 2.8835 - val_accuracy: 0.0890\n"
     ]
    }
   ],
   "source": [
    "hasil = model.fit(\n",
    "    x_train, y_train, batch_size=128,\n",
    "    epochs=20, validation_split=0.1\n",
    ")"
   ]
  },
  {
   "cell_type": "code",
   "execution_count": null,
   "metadata": {},
   "outputs": [],
   "source": [
    "plt.plot(hasil.history['accuracy'])\n",
    "plt.plot(hasil.history['accuracy'])\n",
    "plt.xlabel('epoch')\n",
    "plt.ylabel('Akurasi')\n",
    "plt.legend([legend'Training Accuracy', 'validation Accuracy' ])"
   ]
  }
 ],
 "metadata": {
  "kernelspec": {
   "display_name": "Python 3",
   "language": "python",
   "name": "python3"
  },
  "language_info": {
   "codemirror_mode": {
    "name": "ipython",
    "version": 3
   },
   "file_extension": ".py",
   "mimetype": "text/x-python",
   "name": "python",
   "nbconvert_exporter": "python",
   "pygments_lexer": "ipython3",
   "version": "3.10.7"
  }
 },
 "nbformat": 4,
 "nbformat_minor": 2
}
